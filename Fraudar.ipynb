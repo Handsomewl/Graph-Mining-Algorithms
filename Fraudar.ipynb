{
 "cells": [
  {
   "cell_type": "code",
   "execution_count": 10,
   "metadata": {},
   "outputs": [
    {
     "data": {
      "text/plain": [
       "<module 'Fraudar' from 'c:\\\\Users\\\\THUEEwl\\\\Desktop\\\\Graph-Mining-Algorithms\\\\Fraudar.py'>"
      ]
     },
     "execution_count": 10,
     "metadata": {},
     "output_type": "execute_result"
    }
   ],
   "source": [
    "import spartan as st\n",
    "from Fraudar import Fraudar\n",
    "import imp\n",
    "import Fraudar\n",
    "imp.reload(Fraudar)"
   ]
  },
  {
   "cell_type": "code",
   "execution_count": 23,
   "metadata": {},
   "outputs": [],
   "source": [
    "from scipy.sparse import coo_matrix,lil_matrix,csc_matrix,csr_matrix\n",
    "import numpy as np"
   ]
  },
  {
   "cell_type": "code",
   "execution_count": 2,
   "metadata": {},
   "outputs": [],
   "source": [
    "tensor = st.loadTensor(path = \"inputData/plain_graph_small.zip\", col_types = [int, int], sep=' ')\n",
    "stensor = tensor.toSTensor(hasvalue=False)"
   ]
  },
  {
   "cell_type": "code",
   "execution_count": 4,
   "metadata": {},
   "outputs": [
    {
     "data": {
      "text/html": [
       "<table><tbody><tr><th style=\"text-align: left\">Format</th><td style=\"text-align: left\">coo</td></tr><tr><th style=\"text-align: left\">Data Type</th><td style=\"text-align: left\">int64</td></tr><tr><th style=\"text-align: left\">Shape</th><td style=\"text-align: left\">(500, 497)</td></tr><tr><th style=\"text-align: left\">nnz</th><td style=\"text-align: left\">898</td></tr><tr><th style=\"text-align: left\">Density</th><td style=\"text-align: left\">0.003613682092555332</td></tr><tr><th style=\"text-align: left\">Read-only</th><td style=\"text-align: left\">True</td></tr><tr><th style=\"text-align: left\">Size</th><td style=\"text-align: left\">14.0K</td></tr><tr><th style=\"text-align: left\">Storage ratio</th><td style=\"text-align: left\">0.0</td></tr></tbody></table>"
      ],
      "text/plain": [
       "<COO: shape=(500, 497), dtype=int64, nnz=898, fill_value=0>"
      ]
     },
     "execution_count": 4,
     "metadata": {},
     "output_type": "execute_result"
    }
   ],
   "source": [
    "stensor._data"
   ]
  },
  {
   "cell_type": "code",
   "execution_count": 8,
   "metadata": {},
   "outputs": [],
   "source": [
    "fr = Fraudar(stensor)"
   ]
  },
  {
   "cell_type": "code",
   "execution_count": 19,
   "metadata": {},
   "outputs": [],
   "source": [
    "tensor = stensor.to_scipy().asfptype().tolil()"
   ]
  },
  {
   "cell_type": "code",
   "execution_count": 20,
   "metadata": {},
   "outputs": [
    {
     "data": {
      "text/plain": [
       "<500x497 sparse matrix of type '<class 'numpy.float64'>'\n",
       "\twith 898 stored elements in List of Lists format>"
      ]
     },
     "execution_count": 20,
     "metadata": {},
     "output_type": "execute_result"
    }
   ],
   "source": [
    "tensor"
   ]
  },
  {
   "cell_type": "code",
   "execution_count": 24,
   "metadata": {},
   "outputs": [],
   "source": [
    "def logWeightedAveDegree(M):\n",
    "    # M: scipy sparse matrix\n",
    "    (m, n) = M.shape\n",
    "    colSums = M.sum(axis=0)\n",
    "    colWeights = 1.0 / np.log(np.squeeze(colSums.A) + 5)\n",
    "    colDiag = lil_matrix((n, n))\n",
    "    colDiag.setdiag(colWeights)\n",
    "    W = M * colDiag\n",
    "    print(\"finished computing weight matrix\")\n",
    "    return W\n"
   ]
  },
  {
   "cell_type": "code",
   "execution_count": 25,
   "metadata": {},
   "outputs": [
    {
     "name": "stdout",
     "output_type": "stream",
     "text": [
      "finished computing weight matrix\n"
     ]
    }
   ],
   "source": [
    "w = logWeightedAveDegree(tensor)"
   ]
  },
  {
   "cell_type": "code",
   "execution_count": 26,
   "metadata": {},
   "outputs": [
    {
     "data": {
      "text/plain": [
       "<500x497 sparse matrix of type '<class 'numpy.float64'>'\n",
       "\twith 898 stored elements in Compressed Sparse Row format>"
      ]
     },
     "execution_count": 26,
     "metadata": {},
     "output_type": "execute_result"
    }
   ],
   "source": [
    "w"
   ]
  },
  {
   "cell_type": "code",
   "execution_count": 11,
   "metadata": {},
   "outputs": [
    {
     "name": "stdout",
     "output_type": "stream",
     "text": [
      "finished computing weight matrix\n"
     ]
    },
    {
     "ename": "TypeError",
     "evalue": "fastGreedyDecreasing() takes 1 positional argument but 2 were given",
     "output_type": "error",
     "traceback": [
      "\u001b[1;31m---------------------------------------------------------------------------\u001b[0m",
      "\u001b[1;31mTypeError\u001b[0m                                 Traceback (most recent call last)",
      "\u001b[1;32m~\\AppData\\Local\\Temp/ipykernel_3768/2045425848.py\u001b[0m in \u001b[0;36m<module>\u001b[1;34m\u001b[0m\n\u001b[1;32m----> 1\u001b[1;33m \u001b[0mfr\u001b[0m\u001b[1;33m.\u001b[0m\u001b[0mrun\u001b[0m\u001b[1;33m(\u001b[0m\u001b[1;33m)\u001b[0m\u001b[1;33m\u001b[0m\u001b[0m\n\u001b[0m",
      "\u001b[1;32mc:\\Users\\THUEEwl\\Desktop\\Graph-Mining-Algorithms\\Fraudar.py\u001b[0m in \u001b[0;36mrun\u001b[1;34m(self, out_path, file_name, k, maxsize)\u001b[0m\n\u001b[0;32m     28\u001b[0m         \u001b[0mMcur\u001b[0m \u001b[1;33m=\u001b[0m \u001b[0msparse_matrix\u001b[0m\u001b[1;33m.\u001b[0m\u001b[0mcopy\u001b[0m\u001b[1;33m(\u001b[0m\u001b[1;33m)\u001b[0m\u001b[1;33m.\u001b[0m\u001b[0mtolil\u001b[0m\u001b[1;33m(\u001b[0m\u001b[1;33m)\u001b[0m\u001b[1;33m\u001b[0m\u001b[0m\n\u001b[0;32m     29\u001b[0m         \u001b[0mres\u001b[0m \u001b[1;33m=\u001b[0m \u001b[1;33m[\u001b[0m\u001b[1;33m]\u001b[0m\u001b[1;33m\u001b[0m\u001b[0m\n\u001b[1;32m---> 30\u001b[1;33m         \u001b[0mt\u001b[0m \u001b[1;33m=\u001b[0m \u001b[1;36m0\u001b[0m\u001b[1;33m\u001b[0m\u001b[0m\n\u001b[0m\u001b[0;32m     31\u001b[0m         \u001b[1;32mwhile\u001b[0m \u001b[0mt\u001b[0m \u001b[1;33m<\u001b[0m \u001b[0mk\u001b[0m\u001b[1;33m:\u001b[0m\u001b[1;33m\u001b[0m\u001b[0m\n\u001b[0;32m     32\u001b[0m             \u001b[0mset_row\u001b[0m\u001b[1;33m,\u001b[0m \u001b[0mset_col\u001b[0m\u001b[1;33m,\u001b[0m \u001b[0mscore\u001b[0m \u001b[1;33m=\u001b[0m \u001b[0mself\u001b[0m\u001b[1;33m.\u001b[0m\u001b[0mlogWeightedAveDegree\u001b[0m\u001b[1;33m(\u001b[0m\u001b[0mMcur\u001b[0m\u001b[1;33m)\u001b[0m\u001b[1;33m\u001b[0m\u001b[0m\n",
      "\u001b[1;32mc:\\Users\\THUEEwl\\Desktop\\Graph-Mining-Algorithms\\Fraudar.py\u001b[0m in \u001b[0;36mlogWeightedAveDegree\u001b[1;34m(self, M)\u001b[0m\n\u001b[0;32m     19\u001b[0m         \u001b[0mcolDiag\u001b[0m \u001b[1;33m=\u001b[0m \u001b[0mlil_matrix\u001b[0m\u001b[1;33m(\u001b[0m\u001b[1;33m(\u001b[0m\u001b[0mn\u001b[0m\u001b[1;33m,\u001b[0m \u001b[0mn\u001b[0m\u001b[1;33m)\u001b[0m\u001b[1;33m)\u001b[0m\u001b[1;33m\u001b[0m\u001b[0m\n\u001b[0;32m     20\u001b[0m         \u001b[0mcolDiag\u001b[0m\u001b[1;33m.\u001b[0m\u001b[0msetdiag\u001b[0m\u001b[1;33m(\u001b[0m\u001b[0mcolWeights\u001b[0m\u001b[1;33m)\u001b[0m\u001b[1;33m\u001b[0m\u001b[0m\n\u001b[1;32m---> 21\u001b[1;33m         \u001b[0mW\u001b[0m \u001b[1;33m=\u001b[0m \u001b[0mM\u001b[0m \u001b[1;33m*\u001b[0m \u001b[0mcolDiag\u001b[0m\u001b[1;33m\u001b[0m\u001b[0m\n\u001b[0m\u001b[0;32m     22\u001b[0m         \u001b[0mprint\u001b[0m\u001b[1;33m(\u001b[0m\u001b[1;34m\"finished computing weight matrix\"\u001b[0m\u001b[1;33m)\u001b[0m\u001b[1;33m\u001b[0m\u001b[0m\n\u001b[0;32m     23\u001b[0m         \u001b[1;32mreturn\u001b[0m \u001b[0mself\u001b[0m\u001b[1;33m.\u001b[0m\u001b[0mfastGreedyDecreasing\u001b[0m\u001b[1;33m(\u001b[0m\u001b[0mW\u001b[0m\u001b[1;33m)\u001b[0m\u001b[1;33m\u001b[0m\u001b[0m\n",
      "\u001b[1;31mTypeError\u001b[0m: fastGreedyDecreasing() takes 1 positional argument but 2 were given"
     ]
    }
   ],
   "source": [
    "def fastGreedyDecreasing(self, M):\n",
    "        (m, n) = M.shape\n",
    "        Ml = M.tolil()\n",
    "        Mlt = M.transpose().tolil()\n",
    "        rowSet = set(range(0, m))\n",
    "        colSet = set(range(0, n))\n",
    "        curScore = M[list(rowSet), :][:, list(colSet)].sum(axis=None)\n",
    "        bestAveScore = curScore / (len(rowSet) + len(colSet))\n",
    "        bestSets = (rowSet, colSet)\n",
    "        print(\"finished setting up greedy\")\n",
    "        # *decrease* in total weight when *removing* this row\n",
    "        # Prepare the min priority tree to begin greedy algorithm.\n",
    "        rowDeltas = np.squeeze(M.sum(axis=1).A)\n",
    "        colDeltas = np.squeeze(M.sum(axis=0).A)\n",
    "        print(\"finished setting deltas\")\n",
    "        rowTree = MinTree(rowDeltas)\n",
    "        colTree = MinTree(colDeltas)\n",
    "        print(\"finished building min trees\")\n",
    "\n",
    "        numDeleted = 0\n",
    "        deleted = []\n",
    "        bestNumDeleted = 0\n",
    "\n",
    "        while rowSet and colSet:\n",
    "            if (len(colSet) + len(rowSet)) % 100000 == 0:\n",
    "                print(\"current set size = \", len(colSet) + len(rowSet))\n",
    "            nextRow, rowDelt = rowTree.getMin()\n",
    "            nextCol, colDelt = colTree.getMin()\n",
    "            if rowDelt <= colDelt:\n",
    "                curScore -= rowDelt\n",
    "                # Update priority for the node with min priority and its neighbors\n",
    "                for j in Ml.rows[nextRow]:\n",
    "                    delt = Ml[nextRow, j]\n",
    "                    colTree.changeVal(j, -delt)\n",
    "                rowSet -= {nextRow}\n",
    "                rowTree.changeVal(nextRow, float('inf'))\n",
    "                deleted.append((0, nextRow))\n",
    "            else:\n",
    "                curScore -= colDelt\n",
    "                # Update priority for the node with min priority and its neighbors\n",
    "                for i in Mlt.rows[nextCol]:\n",
    "                    delt = Ml[i, nextCol]\n",
    "                    rowTree.changeVal(i, -delt)\n",
    "                colSet -= {nextCol}\n",
    "                colTree.changeVal(nextCol, float('inf'))\n",
    "                deleted.append((1, nextCol))\n",
    "\n",
    "            numDeleted += 1\n",
    "            curAveScore = curScore / (len(colSet) + len(rowSet))\n",
    "            if curAveScore > bestAveScore:\n",
    "                bestAveScore = curAveScore\n",
    "                bestNumDeleted = numDeleted\n",
    "\n",
    "        # Reconstruct the best row and column sets\n",
    "        finalRowSet = set(range(m))\n",
    "        finalColSet = set(range(n))\n",
    "        for i in range(bestNumDeleted):\n",
    "            if deleted[i][0] == 0:\n",
    "                finalRowSet.remove(deleted[i][1])\n",
    "            else:\n",
    "                finalColSet.remove(deleted[i][1])\n",
    "        return (finalRowSet, finalColSet, bestAveScore)"
   ]
  }
 ],
 "metadata": {
  "interpreter": {
   "hash": "7963079cd08ee1c5b5658cf6fb2a032522509afe835ceb275bbe13cb4301e13a"
  },
  "kernelspec": {
   "display_name": "Python 3.7.0 ('kge')",
   "language": "python",
   "name": "python3"
  },
  "language_info": {
   "codemirror_mode": {
    "name": "ipython",
    "version": 3
   },
   "file_extension": ".py",
   "mimetype": "text/x-python",
   "name": "python",
   "nbconvert_exporter": "python",
   "pygments_lexer": "ipython3",
   "version": "3.7.0"
  },
  "orig_nbformat": 4
 },
 "nbformat": 4,
 "nbformat_minor": 2
}
