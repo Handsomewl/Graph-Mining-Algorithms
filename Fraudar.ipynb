{
 "cells": [
  {
   "cell_type": "code",
   "execution_count": 2,
   "metadata": {},
   "outputs": [
    {
     "name": "stderr",
     "output_type": "stream",
     "text": [
      "D:\\Programs\\Miniconda\\envs\\kge\\lib\\importlib\\_bootstrap.py:219: RuntimeWarning: numpy.ufunc size changed, may indicate binary incompatibility. Expected 192 from C header, got 216 from PyObject\n",
      "  return f(*args, **kwds)\n"
     ]
    },
    {
     "name": "stdout",
     "output_type": "stream",
     "text": [
      "Using backend cpu\n"
     ]
    }
   ],
   "source": [
    "import spartan as st\n",
    "from Fraudar import Fraudar"
   ]
  },
  {
   "cell_type": "markdown",
   "metadata": {},
   "source": [
    "## Input lil_matrix for bipartite graph"
   ]
  },
  {
   "cell_type": "code",
   "execution_count": 3,
   "metadata": {},
   "outputs": [],
   "source": [
    "tensor = st.loadTensor(path = \"inputData/plain_graph_small.zip\", col_types = [int, int], sep=' ')\n",
    "stensor = tensor.toSTensor(hasvalue=False)\n",
    "tensor = stensor.to_scipy().asfptype().tolil()"
   ]
  },
  {
   "cell_type": "code",
   "execution_count": 4,
   "metadata": {},
   "outputs": [
    {
     "data": {
      "text/plain": [
       "<500x497 sparse matrix of type '<class 'numpy.float64'>'\n",
       "\twith 898 stored elements in List of Lists format>"
      ]
     },
     "execution_count": 4,
     "metadata": {},
     "output_type": "execute_result"
    }
   ],
   "source": [
    "tensor"
   ]
  },
  {
   "cell_type": "markdown",
   "metadata": {},
   "source": [
    "## Create Fraudar model and run"
   ]
  },
  {
   "cell_type": "code",
   "execution_count": 5,
   "metadata": {},
   "outputs": [],
   "source": [
    "fr = Fraudar(tensor)"
   ]
  },
  {
   "cell_type": "code",
   "execution_count": 6,
   "metadata": {},
   "outputs": [
    {
     "name": "stdout",
     "output_type": "stream",
     "text": [
      "finished computing weight matrix\n",
      "finished setting up greedy\n",
      "finished setting deltas\n",
      "finished building min trees\n",
      "Fraudar iter 0 finished.\n",
      "score obtained is  3.0490293632985193\n"
     ]
    }
   ],
   "source": [
    "fr.run()"
   ]
  }
 ],
 "metadata": {
  "interpreter": {
   "hash": "7963079cd08ee1c5b5658cf6fb2a032522509afe835ceb275bbe13cb4301e13a"
  },
  "kernelspec": {
   "display_name": "Python 3.7.0 ('kge')",
   "language": "python",
   "name": "python3"
  },
  "language_info": {
   "codemirror_mode": {
    "name": "ipython",
    "version": 3
   },
   "file_extension": ".py",
   "mimetype": "text/x-python",
   "name": "python",
   "nbconvert_exporter": "python",
   "pygments_lexer": "ipython3",
   "version": "3.7.0"
  },
  "orig_nbformat": 4
 },
 "nbformat": 4,
 "nbformat_minor": 2
}
